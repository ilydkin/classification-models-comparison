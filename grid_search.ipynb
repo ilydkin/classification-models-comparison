{
 "cells": [
  {
   "cell_type": "code",
   "execution_count": 1,
   "id": "ffcf6073",
   "metadata": {},
   "outputs": [],
   "source": [
    "# models\n",
    "from sklearn.linear_model import LogisticRegression, SGDClassifier\n",
    "from sklearn.tree import DecisionTreeClassifier\n",
    "from sklearn.ensemble import RandomForestClassifier, GradientBoostingClassifier, ExtraTreesClassifier, AdaBoostClassifier\n",
    "from sklearn.svm import SVC\n",
    "from sklearn.naive_bayes import GaussianNB\n",
    "from sklearn.neural_network import MLPClassifier"
   ]
  },
  {
   "cell_type": "markdown",
   "id": "1751eb20",
   "metadata": {},
   "source": [
    "## Models list:\n",
    "- LogisticRegression(),\n",
    "- SGDClassifier(),\n",
    "- DecisionTreeClassifier(),\n",
    "- RandomForestClassifier(),\n",
    "- GradientBoostingClassifier(),\n",
    "- ExtraTreesClassifier(),\n",
    "- AdaBoostClassifier(),\n",
    "- SVC(),\n",
    "- GaussianNB(),\n",
    "- MLPClassifier()"
   ]
  },
  {
   "cell_type": "code",
   "execution_count": 8,
   "id": "987ff6b7-959b-4329-94ab-f507d5b27740",
   "metadata": {},
   "outputs": [],
   "source": [
    "grid_search_dict = {}"
   ]
  },
  {
   "cell_type": "markdown",
   "id": "3e045f42-5c61-445f-95d8-8ce5c1ff81eb",
   "metadata": {
    "tags": []
   },
   "source": [
    "### LogisticRegression"
   ]
  },
  {
   "cell_type": "code",
   "execution_count": 14,
   "id": "c04e8df3-3b1b-4560-8ea4-8cedd0b969b3",
   "metadata": {},
   "outputs": [
    {
     "data": {
      "text/plain": [
       "{'LogisticRegression': {'C': [1.0, 0.8, 0.6],\n",
       "  'penalty': ['l2', 'l1'],\n",
       "  'random_state': [42, 1453],\n",
       "  'solver': ['saga', 'liblinear']}}"
      ]
     },
     "execution_count": 14,
     "metadata": {},
     "output_type": "execute_result"
    }
   ],
   "source": [
    "logreg = LogisticRegression()\n",
    "\n",
    "print(logreg.get_params())\n",
    "\n",
    "logreg_params = {\n",
    "    'C':[1.0, 0.8, 0.6],\n",
    "    'penalty': ['l2','l1'],\n",
    "    'random_state': [42, 1453],\n",
    "    'solver': ['saga','liblinear']\n",
    "}\n",
    "\n",
    "grid_search_dict[type(logreg).__name__] = logreg_params\n",
    "grid_search_dict"
   ]
  },
  {
   "cell_type": "markdown",
   "id": "c6a13a1f-064a-477d-baf8-cc056b987dc3",
   "metadata": {},
   "source": [
    "### SGDClassifier"
   ]
  },
  {
   "cell_type": "code",
   "execution_count": null,
   "id": "0c2e30c3-7499-48c2-b693-942dc8857935",
   "metadata": {},
   "outputs": [],
   "source": []
  },
  {
   "cell_type": "markdown",
   "id": "94072013",
   "metadata": {
    "jp-MarkdownHeadingCollapsed": true,
    "tags": []
   },
   "source": [
    "## GradientBoostingClassifier"
   ]
  },
  {
   "cell_type": "code",
   "execution_count": null,
   "id": "5346d9f7",
   "metadata": {},
   "outputs": [],
   "source": [
    "parameters = {\n",
    "    \"learning_rate\": [0.01, 0.05, 0.1, 0.2],\n",
    "    \"min_samples_split\": [0.1, 0.2, 0.3],\n",
    "    \"min_samples_leaf\": [0.1, 0.3],\n",
    "    \"max_depth\":[3,5, 7],\n",
    "    \"subsample\":[0.5],\n",
    "    }\n",
    "\n",
    "\n",
    "gbc = GradientBoostingClassifier()"
   ]
  },
  {
   "cell_type": "code",
   "execution_count": null,
   "id": "f5dd2876",
   "metadata": {},
   "outputs": [
    {
     "name": "stdout",
     "output_type": "stream",
     "text": [
      "Fitting 5 folds for each of 72 candidates, totalling 360 fits\n",
      "CPU times: user 3.52 s, sys: 314 ms, total: 3.83 s\n",
      "Wall time: 1min 42s\n"
     ]
    },
    {
     "data": {
      "text/plain": [
       "GridSearchCV(cv=5, estimator=GradientBoostingClassifier(), n_jobs=5,\n",
       "             param_grid={'learning_rate': [0.01, 0.05, 0.1, 0.2],\n",
       "                         'max_depth': [3, 5, 7], 'min_samples_leaf': [0.1, 0.3],\n",
       "                         'min_samples_split': [0.1, 0.2, 0.3],\n",
       "                         'subsample': [0.5]},\n",
       "             scoring='accuracy', verbose=10)"
      ]
     },
     "execution_count": 39,
     "metadata": {},
     "output_type": "execute_result"
    }
   ],
   "source": [
    "%%time\n",
    "grid_search_gbc = GridSearchCV(\n",
    "    estimator=gbc,\n",
    "    param_grid=parameters,\n",
    "    scoring = 'accuracy',\n",
    "    n_jobs = 5,\n",
    "    cv = 5,\n",
    "    verbose=10\n",
    ")\n",
    "\n",
    "grid_search_gbc.fit(train, target)"
   ]
  },
  {
   "cell_type": "code",
   "execution_count": null,
   "id": "5f8a9a76",
   "metadata": {},
   "outputs": [
    {
     "name": "stdout",
     "output_type": "stream",
     "text": [
      "train: 83.09\n",
      "test 83.0\n"
     ]
    }
   ],
   "source": [
    "acc_gbc = round(grid_search_gbc.score(train, target) * 100, 2)\n",
    "print('train:', acc_gbc)\n",
    "\n",
    "acc_test_gbc = round(grid_search_gbc.score(test, target_test) * 100, 2)\n",
    "print('test', acc_test_gbc)\n",
    "\n",
    "\n",
    "models_results['GradientBoostingClassifier_gridsearch'] = (acc_gbc, acc_test_gbc)"
   ]
  },
  {
   "cell_type": "markdown",
   "id": "2e05d7fd",
   "metadata": {
    "jp-MarkdownHeadingCollapsed": true,
    "tags": []
   },
   "source": [
    "## AdaBoostClassifier"
   ]
  },
  {
   "cell_type": "code",
   "execution_count": null,
   "id": "b0d0cca0",
   "metadata": {},
   "outputs": [],
   "source": [
    "grid = {}\n",
    "grid['n_estimators'] = [10, 50, 100]\n",
    "grid['learning_rate'] = [0.0001, 0.01, 0.1]\n",
    "\n",
    "\n",
    "ada = AdaBoostClassifier()"
   ]
  },
  {
   "cell_type": "code",
   "execution_count": null,
   "id": "08651853",
   "metadata": {},
   "outputs": [],
   "source": [
    "grid_search_ada = GridSearchCV(\n",
    "    estimator=ada,\n",
    "    param_grid=grid,\n",
    "    scoring = 'accuracy',\n",
    "    n_jobs = 5,\n",
    "    cv = 5,\n",
    "    verbose=10\n",
    ")"
   ]
  },
  {
   "cell_type": "code",
   "execution_count": null,
   "id": "eca7bb43",
   "metadata": {},
   "outputs": [
    {
     "name": "stdout",
     "output_type": "stream",
     "text": [
      "Fitting 5 folds for each of 9 candidates, totalling 45 fits\n",
      "CPU times: user 3.14 s, sys: 186 ms, total: 3.33 s\n",
      "Wall time: 21.6 s\n"
     ]
    },
    {
     "data": {
      "text/plain": [
       "GridSearchCV(cv=5, estimator=AdaBoostClassifier(), n_jobs=5,\n",
       "             param_grid={'learning_rate': [0.0001, 0.01, 0.1],\n",
       "                         'n_estimators': [10, 50, 100]},\n",
       "             scoring='accuracy', verbose=10)"
      ]
     },
     "execution_count": 43,
     "metadata": {},
     "output_type": "execute_result"
    }
   ],
   "source": [
    "%%time\n",
    "grid_search_ada.fit(train, target)"
   ]
  },
  {
   "cell_type": "code",
   "execution_count": null,
   "id": "ae6657d3",
   "metadata": {},
   "outputs": [
    {
     "name": "stdout",
     "output_type": "stream",
     "text": [
      "train: 85.43\n",
      "test 85.24\n"
     ]
    }
   ],
   "source": [
    "acc_ada = round(grid_search_ada.score(train, target) * 100, 2)\n",
    "print('train:', acc_ada)\n",
    "\n",
    "acc_test_ada = round(grid_search_ada.score(test, target_test) * 100, 2)\n",
    "print('test', acc_test_ada)\n",
    "\n",
    "\n",
    "models_results['AdaBoostClassifier_gridsearch'] = (acc_ada, acc_test_ada)"
   ]
  },
  {
   "cell_type": "code",
   "execution_count": null,
   "id": "5956b7ae",
   "metadata": {},
   "outputs": [
    {
     "data": {
      "text/html": [
       "<div>\n",
       "<style scoped>\n",
       "    .dataframe tbody tr th:only-of-type {\n",
       "        vertical-align: middle;\n",
       "    }\n",
       "\n",
       "    .dataframe tbody tr th {\n",
       "        vertical-align: top;\n",
       "    }\n",
       "\n",
       "    .dataframe thead th {\n",
       "        text-align: right;\n",
       "    }\n",
       "</style>\n",
       "<table border=\"1\" class=\"dataframe\">\n",
       "  <thead>\n",
       "    <tr style=\"text-align: right;\">\n",
       "      <th></th>\n",
       "      <th>Model</th>\n",
       "      <th>Train</th>\n",
       "      <th>Test</th>\n",
       "      <th>Round</th>\n",
       "    </tr>\n",
       "  </thead>\n",
       "  <tbody>\n",
       "    <tr>\n",
       "      <th>12</th>\n",
       "      <td>XGBClassifier_gridsearch</td>\n",
       "      <td>89.49</td>\n",
       "      <td>87.16</td>\n",
       "      <td>1</td>\n",
       "    </tr>\n",
       "    <tr>\n",
       "      <th>8</th>\n",
       "      <td>XGBClassifier</td>\n",
       "      <td>90.63</td>\n",
       "      <td>86.87</td>\n",
       "      <td>1</td>\n",
       "    </tr>\n",
       "    <tr>\n",
       "      <th>9</th>\n",
       "      <td>GradientBoostingClassifier</td>\n",
       "      <td>86.98</td>\n",
       "      <td>86.75</td>\n",
       "      <td>1</td>\n",
       "    </tr>\n",
       "    <tr>\n",
       "      <th>11</th>\n",
       "      <td>AdaBoostClassifier</td>\n",
       "      <td>86.11</td>\n",
       "      <td>86.06</td>\n",
       "      <td>1</td>\n",
       "    </tr>\n",
       "    <tr>\n",
       "      <th>7</th>\n",
       "      <td>RandomForestClassifier</td>\n",
       "      <td>100.00</td>\n",
       "      <td>85.67</td>\n",
       "      <td>1</td>\n",
       "    </tr>\n",
       "    <tr>\n",
       "      <th>14</th>\n",
       "      <td>AdaBoostClassifier_gridsearch</td>\n",
       "      <td>85.43</td>\n",
       "      <td>85.24</td>\n",
       "      <td>1</td>\n",
       "    </tr>\n",
       "    <tr>\n",
       "      <th>10</th>\n",
       "      <td>ExtraTreesClassifier</td>\n",
       "      <td>100.00</td>\n",
       "      <td>83.51</td>\n",
       "      <td>1</td>\n",
       "    </tr>\n",
       "    <tr>\n",
       "      <th>13</th>\n",
       "      <td>GradientBoostingClassifier_gridsearch</td>\n",
       "      <td>83.09</td>\n",
       "      <td>83.00</td>\n",
       "      <td>1</td>\n",
       "    </tr>\n",
       "    <tr>\n",
       "      <th>6</th>\n",
       "      <td>Decision Tree</td>\n",
       "      <td>100.00</td>\n",
       "      <td>81.47</td>\n",
       "      <td>1</td>\n",
       "    </tr>\n",
       "    <tr>\n",
       "      <th>2</th>\n",
       "      <td>Linear SVC</td>\n",
       "      <td>79.61</td>\n",
       "      <td>80.24</td>\n",
       "      <td>1</td>\n",
       "    </tr>\n",
       "    <tr>\n",
       "      <th>0</th>\n",
       "      <td>LogisticRegression</td>\n",
       "      <td>79.69</td>\n",
       "      <td>80.06</td>\n",
       "      <td>1</td>\n",
       "    </tr>\n",
       "    <tr>\n",
       "      <th>1</th>\n",
       "      <td>SVM</td>\n",
       "      <td>79.35</td>\n",
       "      <td>80.04</td>\n",
       "      <td>1</td>\n",
       "    </tr>\n",
       "    <tr>\n",
       "      <th>3</th>\n",
       "      <td>Naive Bayes</td>\n",
       "      <td>79.41</td>\n",
       "      <td>79.81</td>\n",
       "      <td>1</td>\n",
       "    </tr>\n",
       "    <tr>\n",
       "      <th>5</th>\n",
       "      <td>SGD</td>\n",
       "      <td>79.16</td>\n",
       "      <td>79.72</td>\n",
       "      <td>1</td>\n",
       "    </tr>\n",
       "    <tr>\n",
       "      <th>4</th>\n",
       "      <td>Perceptron</td>\n",
       "      <td>24.16</td>\n",
       "      <td>23.75</td>\n",
       "      <td>1</td>\n",
       "    </tr>\n",
       "  </tbody>\n",
       "</table>\n",
       "</div>"
      ],
      "text/plain": [
       "                                    Model   Train   Test  Round\n",
       "12               XGBClassifier_gridsearch   89.49  87.16      1\n",
       "8                           XGBClassifier   90.63  86.87      1\n",
       "9              GradientBoostingClassifier   86.98  86.75      1\n",
       "11                     AdaBoostClassifier   86.11  86.06      1\n",
       "7                  RandomForestClassifier  100.00  85.67      1\n",
       "14          AdaBoostClassifier_gridsearch   85.43  85.24      1\n",
       "10                   ExtraTreesClassifier  100.00  83.51      1\n",
       "13  GradientBoostingClassifier_gridsearch   83.09  83.00      1\n",
       "6                           Decision Tree  100.00  81.47      1\n",
       "2                              Linear SVC   79.61  80.24      1\n",
       "0                      LogisticRegression   79.69  80.06      1\n",
       "1                                     SVM   79.35  80.04      1\n",
       "3                             Naive Bayes   79.41  79.81      1\n",
       "5                                     SGD   79.16  79.72      1\n",
       "4                              Perceptron   24.16  23.75      1"
      ]
     },
     "execution_count": 45,
     "metadata": {},
     "output_type": "execute_result"
    }
   ],
   "source": [
    "df_results = pd.DataFrame().from_dict(models_results).T.reset_index()\n",
    "df_results = df_results.rename(columns={'index':'Model', 0:'Train', 1:'Test'})\n",
    "df_results['Round'] = 1\n",
    "df_results = df_results.sort_values(by='Test', ascending=False)\n",
    "df_results"
   ]
  },
  {
   "cell_type": "code",
   "execution_count": null,
   "id": "9f6def43",
   "metadata": {},
   "outputs": [],
   "source": []
  },
  {
   "cell_type": "code",
   "execution_count": null,
   "id": "b8262f54",
   "metadata": {},
   "outputs": [],
   "source": []
  }
 ],
 "metadata": {
  "kernelspec": {
   "display_name": "Python 3 (ipykernel)",
   "language": "python",
   "name": "python3"
  },
  "language_info": {
   "codemirror_mode": {
    "name": "ipython",
    "version": 3
   },
   "file_extension": ".py",
   "mimetype": "text/x-python",
   "name": "python",
   "nbconvert_exporter": "python",
   "pygments_lexer": "ipython3",
   "version": "3.9.12"
  }
 },
 "nbformat": 4,
 "nbformat_minor": 5
}
