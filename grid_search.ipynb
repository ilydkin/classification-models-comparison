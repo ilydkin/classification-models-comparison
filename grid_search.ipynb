{
 "cells": [
  {
   "cell_type": "code",
   "execution_count": 65,
   "id": "ffcf6073",
   "metadata": {},
   "outputs": [],
   "source": [
    "# models\n",
    "from sklearn.linear_model import LogisticRegression, SGDClassifier\n",
    "from sklearn.tree import DecisionTreeClassifier\n",
    "from sklearn.ensemble import RandomForestClassifier, GradientBoostingClassifier, ExtraTreesClassifier, AdaBoostClassifier\n",
    "from sklearn.svm import SVC\n",
    "from sklearn.naive_bayes import GaussianNB\n",
    "from sklearn.neural_network import MLPClassifier\n",
    "\n",
    "import json"
   ]
  },
  {
   "cell_type": "markdown",
   "id": "1751eb20",
   "metadata": {},
   "source": [
    "## Models list:\n",
    "- LogisticRegression(),\n",
    "- SGDClassifier(),\n",
    "- DecisionTreeClassifier(),\n",
    "- RandomForestClassifier(),\n",
    "- GradientBoostingClassifier(),\n",
    "- ExtraTreesClassifier(),\n",
    "- AdaBoostClassifier(),\n",
    "- SVC(),\n",
    "- GaussianNB(),\n",
    "- MLPClassifier()"
   ]
  },
  {
   "cell_type": "code",
   "execution_count": 43,
   "id": "987ff6b7-959b-4329-94ab-f507d5b27740",
   "metadata": {},
   "outputs": [],
   "source": [
    "grid_search_dict = {}"
   ]
  },
  {
   "cell_type": "markdown",
   "id": "3e045f42-5c61-445f-95d8-8ce5c1ff81eb",
   "metadata": {
    "tags": []
   },
   "source": [
    "### LogisticRegression"
   ]
  },
  {
   "cell_type": "code",
   "execution_count": 44,
   "id": "c04e8df3-3b1b-4560-8ea4-8cedd0b969b3",
   "metadata": {},
   "outputs": [
    {
     "data": {
      "text/plain": [
       "{'C': 1.0,\n",
       " 'class_weight': None,\n",
       " 'dual': False,\n",
       " 'fit_intercept': True,\n",
       " 'intercept_scaling': 1,\n",
       " 'l1_ratio': None,\n",
       " 'max_iter': 100,\n",
       " 'multi_class': 'auto',\n",
       " 'n_jobs': None,\n",
       " 'penalty': 'l2',\n",
       " 'random_state': None,\n",
       " 'solver': 'lbfgs',\n",
       " 'tol': 0.0001,\n",
       " 'verbose': 0,\n",
       " 'warm_start': False}"
      ]
     },
     "execution_count": 44,
     "metadata": {},
     "output_type": "execute_result"
    }
   ],
   "source": [
    "logreg = LogisticRegression()\n",
    "logreg.get_params()"
   ]
  },
  {
   "cell_type": "code",
   "execution_count": 45,
   "id": "0f376749-6b0e-4ce6-b51f-8de48914c636",
   "metadata": {},
   "outputs": [],
   "source": [
    "logreg_params = {\n",
    "    'C':[1.0, 0.8, 0.6],\n",
    "    'penalty': ['l2','l1'],\n",
    "    'random_state': [42, 1453],\n",
    "    'solver': ['saga','liblinear']\n",
    "}\n",
    "\n",
    "grid_search_dict[type(logreg).__name__] = logreg_params"
   ]
  },
  {
   "cell_type": "markdown",
   "id": "c6a13a1f-064a-477d-baf8-cc056b987dc3",
   "metadata": {
    "tags": []
   },
   "source": [
    "### SGDClassifier"
   ]
  },
  {
   "cell_type": "code",
   "execution_count": 46,
   "id": "0c2e30c3-7499-48c2-b693-942dc8857935",
   "metadata": {},
   "outputs": [
    {
     "data": {
      "text/plain": [
       "{'alpha': 0.0001,\n",
       " 'average': False,\n",
       " 'class_weight': None,\n",
       " 'early_stopping': False,\n",
       " 'epsilon': 0.1,\n",
       " 'eta0': 0.0,\n",
       " 'fit_intercept': True,\n",
       " 'l1_ratio': 0.15,\n",
       " 'learning_rate': 'optimal',\n",
       " 'loss': 'hinge',\n",
       " 'max_iter': 1000,\n",
       " 'n_iter_no_change': 5,\n",
       " 'n_jobs': None,\n",
       " 'penalty': 'l2',\n",
       " 'power_t': 0.5,\n",
       " 'random_state': None,\n",
       " 'shuffle': True,\n",
       " 'tol': 0.001,\n",
       " 'validation_fraction': 0.1,\n",
       " 'verbose': 0,\n",
       " 'warm_start': False}"
      ]
     },
     "execution_count": 46,
     "metadata": {},
     "output_type": "execute_result"
    }
   ],
   "source": [
    "sgd = SGDClassifier()\n",
    "\n",
    "sgd.get_params()"
   ]
  },
  {
   "cell_type": "code",
   "execution_count": 47,
   "id": "0ee00135-ad69-4dae-8bb3-54fd3d48d247",
   "metadata": {},
   "outputs": [],
   "source": [
    "sgd_params = {\n",
    "    'alpha':[0.0001, 0.001, 0.01],\n",
    "    'penalty': ['l2','l1'],\n",
    "    'random_state': [42, 1453],\n",
    "    'loss': ['hinge', 'perceptron', 'squared_error']\n",
    "}\n",
    "\n",
    "grid_search_dict[type(sgd).__name__] = sgd_params"
   ]
  },
  {
   "cell_type": "markdown",
   "id": "65b347f0-823d-4bbf-9555-0c2a0f8a941b",
   "metadata": {
    "tags": []
   },
   "source": [
    "### DecisionTreeClassifier"
   ]
  },
  {
   "cell_type": "code",
   "execution_count": 48,
   "id": "060505c0-a5fa-4287-9175-40da645f28d7",
   "metadata": {},
   "outputs": [
    {
     "data": {
      "text/plain": [
       "{'ccp_alpha': 0.0,\n",
       " 'class_weight': None,\n",
       " 'criterion': 'gini',\n",
       " 'max_depth': None,\n",
       " 'max_features': None,\n",
       " 'max_leaf_nodes': None,\n",
       " 'min_impurity_decrease': 0.0,\n",
       " 'min_impurity_split': None,\n",
       " 'min_samples_leaf': 1,\n",
       " 'min_samples_split': 2,\n",
       " 'min_weight_fraction_leaf': 0.0,\n",
       " 'random_state': None,\n",
       " 'splitter': 'best'}"
      ]
     },
     "execution_count": 48,
     "metadata": {},
     "output_type": "execute_result"
    }
   ],
   "source": [
    "tree = DecisionTreeClassifier()\n",
    "tree.get_params()"
   ]
  },
  {
   "cell_type": "code",
   "execution_count": 49,
   "id": "ae396b37-fd7a-4c23-89fe-18db60734fdb",
   "metadata": {},
   "outputs": [],
   "source": [
    "tree_params = {\n",
    "    'criterion': ['gini', 'entropy', 'log_loss'],\n",
    "    'splitter' : ['best', 'random'],\n",
    "    'max_depth': [None, 100, 10],\n",
    "}\n",
    "\n",
    "grid_search_dict[type(tree).__name__] = tree_params"
   ]
  },
  {
   "cell_type": "markdown",
   "id": "0d73c6fe-3119-4c03-8181-0aee0de19550",
   "metadata": {
    "tags": []
   },
   "source": [
    "### RandomForestClassifier"
   ]
  },
  {
   "cell_type": "code",
   "execution_count": 50,
   "id": "00abbd13-d8cf-42b7-bc91-772aafd02637",
   "metadata": {},
   "outputs": [
    {
     "data": {
      "text/plain": [
       "{'bootstrap': True,\n",
       " 'ccp_alpha': 0.0,\n",
       " 'class_weight': None,\n",
       " 'criterion': 'gini',\n",
       " 'max_depth': None,\n",
       " 'max_features': 'auto',\n",
       " 'max_leaf_nodes': None,\n",
       " 'max_samples': None,\n",
       " 'min_impurity_decrease': 0.0,\n",
       " 'min_impurity_split': None,\n",
       " 'min_samples_leaf': 1,\n",
       " 'min_samples_split': 2,\n",
       " 'min_weight_fraction_leaf': 0.0,\n",
       " 'n_estimators': 100,\n",
       " 'n_jobs': None,\n",
       " 'oob_score': False,\n",
       " 'random_state': None,\n",
       " 'verbose': 0,\n",
       " 'warm_start': False}"
      ]
     },
     "execution_count": 50,
     "metadata": {},
     "output_type": "execute_result"
    }
   ],
   "source": [
    "forest = RandomForestClassifier()\n",
    "forest.get_params()"
   ]
  },
  {
   "cell_type": "code",
   "execution_count": 51,
   "id": "69d55430-2042-48e1-865e-cd3d4c2faae7",
   "metadata": {},
   "outputs": [],
   "source": [
    "forest_params = {\n",
    "    'criterion': ['gini', 'entropy', 'log_loss'],\n",
    "    'n_estimators': [100, 200, 300]\n",
    "}\n",
    "\n",
    "grid_search_dict[type(forest).__name__] = forest_params"
   ]
  },
  {
   "cell_type": "markdown",
   "id": "5d7bf91c-7bb8-4281-8ca5-89c4a68bce3b",
   "metadata": {
    "jp-MarkdownHeadingCollapsed": true,
    "tags": []
   },
   "source": [
    "###### GradientBoostingClassifier"
   ]
  },
  {
   "cell_type": "code",
   "execution_count": 52,
   "id": "b8fa48c1-b3a7-4f63-9e5f-6441828d0361",
   "metadata": {},
   "outputs": [
    {
     "data": {
      "text/plain": [
       "{'ccp_alpha': 0.0,\n",
       " 'criterion': 'friedman_mse',\n",
       " 'init': None,\n",
       " 'learning_rate': 0.1,\n",
       " 'loss': 'deviance',\n",
       " 'max_depth': 3,\n",
       " 'max_features': None,\n",
       " 'max_leaf_nodes': None,\n",
       " 'min_impurity_decrease': 0.0,\n",
       " 'min_impurity_split': None,\n",
       " 'min_samples_leaf': 1,\n",
       " 'min_samples_split': 2,\n",
       " 'min_weight_fraction_leaf': 0.0,\n",
       " 'n_estimators': 100,\n",
       " 'n_iter_no_change': None,\n",
       " 'random_state': None,\n",
       " 'subsample': 1.0,\n",
       " 'tol': 0.0001,\n",
       " 'validation_fraction': 0.1,\n",
       " 'verbose': 0,\n",
       " 'warm_start': False}"
      ]
     },
     "execution_count": 52,
     "metadata": {},
     "output_type": "execute_result"
    }
   ],
   "source": [
    "gbs = GradientBoostingClassifier()\n",
    "gbs.get_params()"
   ]
  },
  {
   "cell_type": "code",
   "execution_count": 53,
   "id": "49731df2-f75a-4d09-9b69-ef59f1e024a4",
   "metadata": {},
   "outputs": [],
   "source": [
    "gbs_params = {\n",
    "    'criterion': ['friedman_mse', 'squared_error'],\n",
    "    'n_estimators': [100, 200, 300]\n",
    "}\n",
    "\n",
    "grid_search_dict[type(gbs).__name__] = gbs_params"
   ]
  },
  {
   "cell_type": "markdown",
   "id": "c0994a45-ba5a-47b7-989d-0a11035e3580",
   "metadata": {},
   "source": [
    "### ExtraTreesClassifier"
   ]
  },
  {
   "cell_type": "code",
   "execution_count": 54,
   "id": "6f9df0f2-50f1-4f5c-a9c2-f63323fb27a9",
   "metadata": {},
   "outputs": [
    {
     "data": {
      "text/plain": [
       "{'bootstrap': False,\n",
       " 'ccp_alpha': 0.0,\n",
       " 'class_weight': None,\n",
       " 'criterion': 'gini',\n",
       " 'max_depth': None,\n",
       " 'max_features': 'auto',\n",
       " 'max_leaf_nodes': None,\n",
       " 'max_samples': None,\n",
       " 'min_impurity_decrease': 0.0,\n",
       " 'min_impurity_split': None,\n",
       " 'min_samples_leaf': 1,\n",
       " 'min_samples_split': 2,\n",
       " 'min_weight_fraction_leaf': 0.0,\n",
       " 'n_estimators': 100,\n",
       " 'n_jobs': None,\n",
       " 'oob_score': False,\n",
       " 'random_state': None,\n",
       " 'verbose': 0,\n",
       " 'warm_start': False}"
      ]
     },
     "execution_count": 54,
     "metadata": {},
     "output_type": "execute_result"
    }
   ],
   "source": [
    "etc = ExtraTreesClassifier()\n",
    "etc.get_params()"
   ]
  },
  {
   "cell_type": "code",
   "execution_count": 55,
   "id": "d55319a3-7659-4b70-ae3a-d5f347fc6103",
   "metadata": {},
   "outputs": [],
   "source": [
    "etc_params = {\n",
    "    'criterion': ['gini', 'entropy', 'log_loss'],\n",
    "    'n_estimators': [100, 200, 300]\n",
    "}\n",
    "\n",
    "grid_search_dict[type(etc).__name__] = etc_params"
   ]
  },
  {
   "cell_type": "markdown",
   "id": "12f7e030-6bbb-4ea6-bcaf-872e2f31158d",
   "metadata": {},
   "source": [
    "### AdaBoostClassifier"
   ]
  },
  {
   "cell_type": "code",
   "execution_count": 56,
   "id": "56f1bdad-764b-427d-bf6a-80c48e2d30c9",
   "metadata": {},
   "outputs": [
    {
     "data": {
      "text/plain": [
       "{'algorithm': 'SAMME.R',\n",
       " 'base_estimator': None,\n",
       " 'learning_rate': 1.0,\n",
       " 'n_estimators': 50,\n",
       " 'random_state': None}"
      ]
     },
     "execution_count": 56,
     "metadata": {},
     "output_type": "execute_result"
    }
   ],
   "source": [
    "abc = AdaBoostClassifier()\n",
    "abc.get_params()"
   ]
  },
  {
   "cell_type": "code",
   "execution_count": 57,
   "id": "77c091c5-3bf1-452b-bb47-086ac2421e4e",
   "metadata": {},
   "outputs": [],
   "source": [
    "abc_params = {\n",
    "    'algorithm': ['SAMME.R', 'SAMME'],\n",
    "    'n_estimators': [50, 100, 200]\n",
    "}\n",
    "\n",
    "grid_search_dict[type(abc).__name__] = abc_params"
   ]
  },
  {
   "cell_type": "markdown",
   "id": "c790bcbc-8dff-4a42-bcd6-527a676d18b4",
   "metadata": {},
   "source": [
    "### SVC"
   ]
  },
  {
   "cell_type": "code",
   "execution_count": 58,
   "id": "7fe0223d-37b8-4d41-9aee-8bdf09013e86",
   "metadata": {},
   "outputs": [
    {
     "data": {
      "text/plain": [
       "{'C': 1.0,\n",
       " 'break_ties': False,\n",
       " 'cache_size': 200,\n",
       " 'class_weight': None,\n",
       " 'coef0': 0.0,\n",
       " 'decision_function_shape': 'ovr',\n",
       " 'degree': 3,\n",
       " 'gamma': 'scale',\n",
       " 'kernel': 'rbf',\n",
       " 'max_iter': -1,\n",
       " 'probability': False,\n",
       " 'random_state': None,\n",
       " 'shrinking': True,\n",
       " 'tol': 0.001,\n",
       " 'verbose': False}"
      ]
     },
     "execution_count": 58,
     "metadata": {},
     "output_type": "execute_result"
    }
   ],
   "source": [
    "svc = SVC()\n",
    "svc.get_params()"
   ]
  },
  {
   "cell_type": "code",
   "execution_count": 59,
   "id": "99cff3b2-a137-4a0e-b331-4bb2ca87bd7e",
   "metadata": {},
   "outputs": [],
   "source": [
    "svc_params = {\n",
    "    'C': [1.0, 2.0],\n",
    "    'kernel': ['linear', 'poly', 'rbf', 'sigmoid']\n",
    "}\n",
    "\n",
    "grid_search_dict[type(svc).__name__] = svc_params"
   ]
  },
  {
   "cell_type": "markdown",
   "id": "43c0e689-fe22-4bb6-98f9-46ae4175a19b",
   "metadata": {},
   "source": [
    "### GaussianNB"
   ]
  },
  {
   "cell_type": "code",
   "execution_count": 60,
   "id": "5774090a-22d5-4cfb-8312-db32a859c98d",
   "metadata": {},
   "outputs": [
    {
     "data": {
      "text/plain": [
       "{'priors': None, 'var_smoothing': 1e-09}"
      ]
     },
     "execution_count": 60,
     "metadata": {},
     "output_type": "execute_result"
    }
   ],
   "source": [
    "gnb = GaussianNB()\n",
    "gnb.get_params()"
   ]
  },
  {
   "cell_type": "code",
   "execution_count": 61,
   "id": "4c945418-3f2c-49c5-9df6-dc2d2f496a56",
   "metadata": {},
   "outputs": [],
   "source": [
    "gnb_params = {\n",
    "    'var_smoothing': [1e-09, 1e-08, 1e-07]\n",
    "}\n",
    "\n",
    "grid_search_dict[type(gnb).__name__] = gnb_params"
   ]
  },
  {
   "cell_type": "markdown",
   "id": "a7ecaa85-efb2-4f83-90ee-1bc24c54391e",
   "metadata": {},
   "source": [
    "### MLPClassifier"
   ]
  },
  {
   "cell_type": "code",
   "execution_count": 62,
   "id": "8f2e48d6-ad2e-4c2a-8fbc-07398e4be033",
   "metadata": {},
   "outputs": [
    {
     "data": {
      "text/plain": [
       "{'activation': 'relu',\n",
       " 'alpha': 0.0001,\n",
       " 'batch_size': 'auto',\n",
       " 'beta_1': 0.9,\n",
       " 'beta_2': 0.999,\n",
       " 'early_stopping': False,\n",
       " 'epsilon': 1e-08,\n",
       " 'hidden_layer_sizes': (100,),\n",
       " 'learning_rate': 'constant',\n",
       " 'learning_rate_init': 0.001,\n",
       " 'max_fun': 15000,\n",
       " 'max_iter': 200,\n",
       " 'momentum': 0.9,\n",
       " 'n_iter_no_change': 10,\n",
       " 'nesterovs_momentum': True,\n",
       " 'power_t': 0.5,\n",
       " 'random_state': None,\n",
       " 'shuffle': True,\n",
       " 'solver': 'adam',\n",
       " 'tol': 0.0001,\n",
       " 'validation_fraction': 0.1,\n",
       " 'verbose': False,\n",
       " 'warm_start': False}"
      ]
     },
     "execution_count": 62,
     "metadata": {},
     "output_type": "execute_result"
    }
   ],
   "source": [
    "mlp = MLPClassifier()\n",
    "mlp.get_params()"
   ]
  },
  {
   "cell_type": "code",
   "execution_count": 63,
   "id": "367d41f0-b2a3-4897-bf49-08ff26927a2e",
   "metadata": {},
   "outputs": [],
   "source": [
    "mlp_params = {\n",
    "    'activation': ['identity', 'logistic', 'tanh', 'relu'],\n",
    "    'hidden_layer_sizes': [100, 200]\n",
    "}\n",
    "\n",
    "grid_search_dict[type(mlp).__name__] = mlp_params"
   ]
  },
  {
   "cell_type": "code",
   "execution_count": 64,
   "id": "5e7023e1-7ea4-4b6c-8428-9686b24ab43e",
   "metadata": {},
   "outputs": [
    {
     "data": {
      "text/plain": [
       "{'LogisticRegression': {'C': [1.0, 0.8, 0.6],\n",
       "  'penalty': ['l2', 'l1'],\n",
       "  'random_state': [42, 1453],\n",
       "  'solver': ['saga', 'liblinear']},\n",
       " 'SGDClassifier': {'alpha': [0.0001, 0.001, 0.01],\n",
       "  'penalty': ['l2', 'l1'],\n",
       "  'random_state': [42, 1453],\n",
       "  'loss': ['hinge', 'perceptron', 'squared_error']},\n",
       " 'DecisionTreeClassifier': {'criterion': ['gini', 'entropy', 'log_loss'],\n",
       "  'splitter': ['best', 'random'],\n",
       "  'max_depth': [None, 100, 10]},\n",
       " 'RandomForestClassifier': {'criterion': ['gini', 'entropy', 'log_loss'],\n",
       "  'n_estimators': [100, 200, 300]},\n",
       " 'GradientBoostingClassifier': {'criterion': ['friedman_mse', 'squared_error'],\n",
       "  'n_estimators': [100, 200, 300]},\n",
       " 'ExtraTreesClassifier': {'criterion': ['gini', 'entropy', 'log_loss'],\n",
       "  'n_estimators': [100, 200, 300]},\n",
       " 'AdaBoostClassifier': {'algorithm': ['SAMME.R', 'SAMME'],\n",
       "  'n_estimators': [50, 100, 200]},\n",
       " 'SVC': {'C': [1.0, 2.0], 'kernel': ['linear', 'poly', 'rbf', 'sigmoid']},\n",
       " 'GaussianNB': {'var_smoothing': [1e-09, 1e-08, 1e-07]},\n",
       " 'MLPClassifier': {'activation': ['identity', 'logistic', 'tanh', 'relu'],\n",
       "  'hidden_layer_sizes': [100, 200]}}"
      ]
     },
     "execution_count": 64,
     "metadata": {},
     "output_type": "execute_result"
    }
   ],
   "source": [
    "grid_search_dict"
   ]
  },
  {
   "cell_type": "markdown",
   "id": "0d66115b-cf12-4680-a24a-30557c7ec400",
   "metadata": {
    "tags": []
   },
   "source": [
    "# Export to json"
   ]
  },
  {
   "cell_type": "code",
   "execution_count": 69,
   "id": "9f6def43",
   "metadata": {},
   "outputs": [],
   "source": [
    "json_object = json.dumps(grid_search_dict, indent=4)\n",
    "with open('data/grid_search_dict.json', 'w') as file:\n",
    "    file.write(json_object)"
   ]
  },
  {
   "cell_type": "code",
   "execution_count": null,
   "id": "9d6d9ea5-d036-4668-922a-a5ea33e79ad1",
   "metadata": {},
   "outputs": [],
   "source": []
  }
 ],
 "metadata": {
  "kernelspec": {
   "display_name": "Python 3 (ipykernel)",
   "language": "python",
   "name": "python3"
  },
  "language_info": {
   "codemirror_mode": {
    "name": "ipython",
    "version": 3
   },
   "file_extension": ".py",
   "mimetype": "text/x-python",
   "name": "python",
   "nbconvert_exporter": "python",
   "pygments_lexer": "ipython3",
   "version": "3.9.12"
  }
 },
 "nbformat": 4,
 "nbformat_minor": 5
}
